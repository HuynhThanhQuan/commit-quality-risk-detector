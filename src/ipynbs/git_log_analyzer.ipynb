{
 "cells": [
  {
   "cell_type": "markdown",
   "metadata": {},
   "source": [
    "## Git repository accessor"
   ]
  },
  {
   "cell_type": "code",
   "execution_count": 995,
   "metadata": {},
   "outputs": [],
   "source": [
    "import os\n",
    "import git\n",
    "from git import GitCommandError\n",
    "import time\n",
    "from itertools import chain\n",
    "import re"
   ]
  },
  {
   "cell_type": "code",
   "execution_count": 996,
   "metadata": {},
   "outputs": [],
   "source": [
    "class Repo(object):\n",
    "    _TIME_FORMAT = '%y-%m-%d-%H:%M'\n",
    "    \n",
    "    def __init__(self, repo_path):\n",
    "        self._repo = git.Repo(repo_path)\n",
    "\n",
    "    def _format_commit_info(cls, file, diff, hash_, date, message, committer, label=None):\n",
    "        \"\"\"\n",
    "        _format_commit_info create dict type object from a commit log information\n",
    "        for insert MongoDB document.\n",
    "        \n",
    "        @param file is a filepath in the commit log\n",
    "        @param diff is a difference position in the commit log\n",
    "        @param hash_ is a hash string indicating a commit\n",
    "        @param date is a commited date\n",
    "        @param message is a commit message\n",
    "        @param committer is a person name whose create this commit\n",
    "        @param label is Bug/Non_Bug label at the commit \n",
    "        @return dict type object\n",
    "        \"\"\"\n",
    "        return {\n",
    "            'file' : file,\n",
    "            'diff' : diff,\n",
    "            'hash' : hash_,\n",
    "            'date' : date,\n",
    "            'message' : message,\n",
    "            'committer' : committer,\n",
    "            'label' : label\n",
    "        }\n",
    "    \n",
    "    def filter_commit_by_message(self, keyword):\n",
    "        \"\"\"\n",
    "        filtering all of commit logs include keyword in commit message\n",
    "        \"\"\"\n",
    "        return [\n",
    "            c\n",
    "            for c in self._repo.iter_commits()\n",
    "            if keyword in c.message.upper()\n",
    "        ]\n",
    "    \n",
    "    def find_commit(self, commit_id):\n",
    "        return self._repo.commit(commit_id)\n",
    "    \n",
    "    def find_blame(self, commit_id, filepath):\n",
    "        \"\"\"\n",
    "        search commit history specific commit_id and file \n",
    "        \"\"\"\n",
    "        try:\n",
    "            return self._repo.blame(self.find_commit(commit_id).parents[0], filepath)\n",
    "        except GitCommandError:\n",
    "            return []\n",
    "            \n",
    "    def split_diff_block(self, diff_list, splitter=r'@@.*?@@'):\n",
    "        \"\"\"\n",
    "        split diff place in source code.\n",
    "        each block splitted by splitter\n",
    "        \"\"\"\n",
    "        start = None\n",
    "        for num, line in enumerate(diff_list):\n",
    "            if re.match(splitter, line):\n",
    "                end = num\n",
    "                if start is not None:\n",
    "                    yield diff_list[start:end]\n",
    "                start = end\n",
    "        else:\n",
    "            if start is not None:\n",
    "                yield diff_list[start:]\n",
    "            else:\n",
    "                yield diff_list\n",
    "                \n",
    "    \n",
    "    def create_diff_info(self, commit_id, filter_fn=None, convertor_fn=None,\n",
    "                       label=None, coding='utf-8', splitter='\\n', delimiter='\\n'):\n",
    "        \"\"\"\n",
    "        create list of diff information formatted by _format_commit_info() method  \n",
    "        \"\"\"\n",
    "        commit = self.find_commit(commit_id)\n",
    "        parent = commit.parents[0]\n",
    "        return [\n",
    "            self._format_commit_info(\n",
    "                file=d.b_path,\n",
    "                diff=delimiter.join(self.convert_diff_info(block, convertor_fn)),\n",
    "                hash_=commit.hexsha,\n",
    "                date=time.strftime(self._TIME_FORMAT, time.gmtime(commit.committed_date)),\n",
    "                message=commit.message,\n",
    "                committer=commit.committer.name,\n",
    "                label=label\n",
    "            )\n",
    "            for d in parent.diff(commit, create_patch=True)\n",
    "            if d.b_path is not None\n",
    "            if (filter_fn(d.b_path) \n",
    "                if filter_fn is not None \n",
    "                else True)\n",
    "            for block in self.split_diff_block(d.diff.decode(coding).split(splitter))\n",
    "        ]\n",
    "    \n",
    "    def convert_diff_info(self, diff, convertor_fn=None):\n",
    "        \"\"\"\n",
    "        diff contents converted by conbertor_fn\n",
    "        \"\"\"\n",
    "        if convertor_fn is None:\n",
    "            return diff\n",
    "        return convertor_fn(diff)\n",
    "    \n",
    "    def find_previous_commit(self, commit_id, filepath, diffs, regex=r'^@@ -([0-9]*),([0-9]*).*?@@'):\n",
    "        \"\"\"\n",
    "        find previous commit information each replace position in diff source code\n",
    "        \"\"\"\n",
    "        blame_list = self.find_blame(commit_id, filepath)\n",
    "        for diff in diffs:\n",
    "            matching = re.search(regex, diff)\n",
    "            if matching is not None:\n",
    "                start = int(matching.group(1))\n",
    "                end = start + int(matching.group(2))\n",
    "                tcl = 0\n",
    "                for commit, lines in blame_list:\n",
    "                    if not (((tcl + len(lines)) < start) or (end < tcl)):\n",
    "                        yield (commit, lines)\n",
    "                    tcl += len(lines)\n",
    "        \n",
    "    def find_bug_commit(self, commit_list, key, splitter='\\n'):\n",
    "        \"\"\"\n",
    "        search bug included commit\n",
    "        \"\"\"\n",
    "        for file in commit_list[key]:\n",
    "            prev_commits = list(self.find_previous_commit(key, file, commit_list[key][file]))\n",
    "            for diff in commit_list[key][file]:\n",
    "                bug_lines = [\n",
    "                    re.sub(r'^-', '', l)\n",
    "                    for l in diff.split(splitter)\n",
    "                    if l != '-'\n",
    "                    if l.startswith('-')\n",
    "                ]\n",
    "                commits = [\n",
    "                    commit\n",
    "                    for bug_line in bug_lines\n",
    "                    for commit, lines in prev_commits\n",
    "                    if bug_line in set(lines)\n",
    "                ]\n",
    "                if commits:\n",
    "                    yield list(set(commits))"
   ]
  },
  {
   "cell_type": "markdown",
   "metadata": {},
   "source": [
    "## How to use\n",
    "1. cloning git hub project into ~k5user/jupyter/ai_working/repos\n",
    "1. creating Repo instance\n",
    "1. extructing non-bug commit information\n",
    "1. extructing bug commit information\n",
    "1. save commit information to mongoDB"
   ]
  },
  {
   "cell_type": "code",
   "execution_count": 997,
   "metadata": {
    "scrolled": true
   },
   "outputs": [],
   "source": [
    "# loading repository\n",
    "repo = Repo('../repos/RxJava/')"
   ]
  },
  {
   "cell_type": "code",
   "execution_count": 976,
   "metadata": {},
   "outputs": [],
   "source": [
    "# search non_bug_commit\n",
    "commit_list = repo.filter_commit_by_message('fix')\n",
    "non_bug_list = [\n",
    "    repo.create_diff_info(\n",
    "        commit,\n",
    "        filter_fn=lambda x: x.endswith('.java') and re.match(r'^.*(test|Test).*$', x) is None,\n",
    "        #convertor_fn=lambda x: [e for e in x if not e.startswith('-')],\n",
    "        label='non_bug'\n",
    "    )\n",
    "    for commit in commit_list\n",
    "]\n",
    "non_bug_commits = list(chain.from_iterable(non_bug_list))"
   ]
  },
  {
   "cell_type": "code",
   "execution_count": 977,
   "metadata": {
    "scrolled": false
   },
   "outputs": [],
   "source": [
    "# search bug_commit\n",
    "def create_commit_data(commits):\n",
    "    \"\"\"\n",
    "    this function use to reduce processing overhead to find_bug_commit\n",
    "    \"\"\"\n",
    "    commit_list = {\n",
    "        c['hash']: {}\n",
    "        for c in commits\n",
    "    }\n",
    "    for c in commits:\n",
    "        commit_list[c['hash']][c['file']] = []\n",
    "\n",
    "    for c in commits:\n",
    "        commit_list[c['hash']][c['file']].append(c['diff'])\n",
    "        \n",
    "    return commit_list\n",
    "\n",
    "\n",
    "bug_commit_dict = create_commit_data(non_bug_commits)\n",
    "bug_commit_list_no_refactor = [\n",
    "        list(repo.find_bug_commit(bug_commit_dict, keys))\n",
    "        for keys in bug_commit_dict.keys()\n",
    "    ]\n",
    "bug_commit_list = list(set(\n",
    "    chain.from_iterable(\n",
    "        chain.from_iterable(bug_commit_list_no_refactor))\n",
    "))\n",
    "\n",
    "bug_list = [\n",
    "    repo.create_diff_info(\n",
    "        commit,\n",
    "        filter_fn=lambda x: x.endswith('.java') and re.match('^.*(test|Test).*$', x) is None,\n",
    "        #convertor_fn=lambda x: [e for e in x if not e.startswith('-')],\n",
    "        label='bug'\n",
    "    )\n",
    "    for commit in bug_commit_list\n",
    "]\n",
    "\n",
    "bug_commits = list(chain.from_iterable(bug_list))"
   ]
  },
  {
   "cell_type": "markdown",
   "metadata": {},
   "source": [
    "## MongoDB accessor"
   ]
  },
  {
   "cell_type": "code",
   "execution_count": 907,
   "metadata": {},
   "outputs": [],
   "source": [
    "from pymongo import MongoClient"
   ]
  },
  {
   "cell_type": "code",
   "execution_count": 951,
   "metadata": {},
   "outputs": [],
   "source": [
    "class CommitDB(object):\n",
    "    _DOCUMENT_KEYS = {\n",
    "        '_id', 'file', 'diff', 'hash', 'date',\n",
    "        'message', 'committer', 'label'\n",
    "    }\n",
    "    \n",
    "    def check_correct_document(cls, document):\n",
    "        if type(document) != dict:\n",
    "            return False\n",
    "        if document.keys() <=  cls._DOCUMENT_KEYS:\n",
    "                return True\n",
    "        else:\n",
    "            return False\n",
    "    \n",
    "    def __init__(self, host, ip, db_name, collection_name):\n",
    "        self._client = MongoClient(host, ip)\n",
    "        self._db = self._client[db_name]\n",
    "        self._collection = self._db[collection_name]\n",
    "        \n",
    "    def insert(self, document):\n",
    "        if self.check_correct_document(document):\n",
    "            return self._collection.insert_one(document)\n",
    "        else:\n",
    "            return None\n",
    "    \n",
    "    def insert_all(self, documents):\n",
    "        for doc in documents:\n",
    "            if not self.check_correct_document(doc):\n",
    "                return None\n",
    "        return self._collection.insert_many(documents)\n",
    "    \n",
    "    def get(self, **kw):\n",
    "        return self._collection.find(kw)"
   ]
  },
  {
   "cell_type": "code",
   "execution_count": 964,
   "metadata": {},
   "outputs": [],
   "source": [
    "db = CommitDB('localhost', 27017, 'test', 'test_dataset')"
   ]
  },
  {
   "cell_type": "code",
   "execution_count": null,
   "metadata": {},
   "outputs": [],
   "source": [
    "# insert commit information\n",
    "db.insert_all(non_bug_commits[:100])"
   ]
  },
  {
   "cell_type": "code",
   "execution_count": null,
   "metadata": {
    "scrolled": false
   },
   "outputs": [],
   "source": [
    "for doc in db.get():\n",
    "    print(doc)"
   ]
  },
  {
   "cell_type": "code",
   "execution_count": 986,
   "metadata": {},
   "outputs": [
    {
     "name": "stdout",
     "output_type": "stream",
     "text": [
      "40353\n",
      "@@ -34,7 +34,7 @@ import rx.observables.Notification;\n",
      " import rx.observables.Observable;\n",
      " import rx.observables.Observer;\n",
      " import rx.observables.Subscription;\n",
      "-import rx.util.FunctionLanguageAdaptor;\n",
      "+import rx.util.functions.FunctionLanguageAdaptor;\n",
      " \n",
      " public class JRubyAdaptor implements FunctionLanguageAdaptor {\n",
      " \n",
      "\n"
     ]
    }
   ],
   "source": [
    "print(len(bug_commits))\n",
    "print(bug_commits[20]['diff'])"
   ]
  },
  {
   "cell_type": "code",
   "execution_count": 1006,
   "metadata": {},
   "outputs": [
    {
     "name": "stdout",
     "output_type": "stream",
     "text": [
      "12275\n",
      "@@ -220,6 +217,7 @@ public final class FlowableGroupBy<T, K, V> extends AbstractFlowableWithUpstream\n",
      "                     evictedGroups.clear();\n",
      "                 }\n",
      "                 done = true;\n",
      "+                finished = true;\n",
      "                 drain();\n",
      "             }\n",
      "         }\n"
     ]
    }
   ],
   "source": [
    "print(len(non_bug_commits))\n",
    "print(non_bug_commits[20]['diff'])"
   ]
  },
  {
   "cell_type": "code",
   "execution_count": 1004,
   "metadata": {},
   "outputs": [
    {
     "data": {
      "text/plain": [
       "169"
      ]
     },
     "execution_count": 1004,
     "metadata": {},
     "output_type": "execute_result"
    }
   ],
   "source": [
    "len(repo.filter_commit_by_message('BUG'))# + len(repo.filter_commit_by_message('fix'))"
   ]
  },
  {
   "cell_type": "code",
   "execution_count": 1001,
   "metadata": {},
   "outputs": [
    {
     "data": {
      "text/plain": [
       "163"
      ]
     },
     "execution_count": 1001,
     "metadata": {},
     "output_type": "execute_result"
    }
   ],
   "source": [
    "len(repo.filter_commit_by_message('CLEAN'))"
   ]
  },
  {
   "cell_type": "code",
   "execution_count": null,
   "metadata": {},
   "outputs": [],
   "source": []
  }
 ],
 "metadata": {
  "kernelspec": {
   "display_name": "Python 3",
   "language": "python",
   "name": "python3"
  },
  "language_info": {
   "codemirror_mode": {
    "name": "ipython",
    "version": 3
   },
   "file_extension": ".py",
   "mimetype": "text/x-python",
   "name": "python",
   "nbconvert_exporter": "python",
   "pygments_lexer": "ipython3",
   "version": "3.6.5"
  }
 },
 "nbformat": 4,
 "nbformat_minor": 2
}
